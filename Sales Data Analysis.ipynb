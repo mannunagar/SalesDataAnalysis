{
 "cells": [
  {
   "cell_type": "code",
   "execution_count": 2,
   "id": "2ae49219",
   "metadata": {},
   "outputs": [],
   "source": [
    "import pandas as pd\n",
    "import matplotlib\n",
    "from matplotlib import pyplot as plt"
   ]
  },
  {
   "cell_type": "code",
   "execution_count": 3,
   "id": "4025d60e",
   "metadata": {},
   "outputs": [],
   "source": [
    "month_sale = pd.read_excel('month_sale.xlsx')"
   ]
  },
  {
   "cell_type": "code",
   "execution_count": 4,
   "id": "8bfe3247",
   "metadata": {},
   "outputs": [],
   "source": [
    "# Showing first five rows of dataset month_sale"
   ]
  },
  {
   "cell_type": "code",
   "execution_count": 5,
   "id": "9da75781",
   "metadata": {},
   "outputs": [
    {
     "data": {
      "text/html": [
       "<div>\n",
       "<style scoped>\n",
       "    .dataframe tbody tr th:only-of-type {\n",
       "        vertical-align: middle;\n",
       "    }\n",
       "\n",
       "    .dataframe tbody tr th {\n",
       "        vertical-align: top;\n",
       "    }\n",
       "\n",
       "    .dataframe thead th {\n",
       "        text-align: right;\n",
       "    }\n",
       "</style>\n",
       "<table border=\"1\" class=\"dataframe\">\n",
       "  <thead>\n",
       "    <tr style=\"text-align: right;\">\n",
       "      <th></th>\n",
       "      <th>Order ID</th>\n",
       "      <th>Order Date</th>\n",
       "      <th>Shipping Date</th>\n",
       "      <th>Ship Mode</th>\n",
       "      <th>Product Category</th>\n",
       "      <th>Product</th>\n",
       "      <th>Sales</th>\n",
       "      <th>Quantity</th>\n",
       "      <th>Discount</th>\n",
       "      <th>Profit</th>\n",
       "      <th>Shipping Cost</th>\n",
       "      <th>Order Priority</th>\n",
       "      <th>Customer ID</th>\n",
       "      <th>Customer Name</th>\n",
       "      <th>Segment</th>\n",
       "      <th>City</th>\n",
       "      <th>State</th>\n",
       "      <th>Country</th>\n",
       "      <th>Region</th>\n",
       "    </tr>\n",
       "  </thead>\n",
       "  <tbody>\n",
       "    <tr>\n",
       "      <th>0</th>\n",
       "      <td>AU-2022-172</td>\n",
       "      <td>2022-01-01</td>\n",
       "      <td>2022-01-09</td>\n",
       "      <td>First Class</td>\n",
       "      <td>Auto &amp; Accessories</td>\n",
       "      <td>Car Media Players</td>\n",
       "      <td>140</td>\n",
       "      <td>4</td>\n",
       "      <td>0.02</td>\n",
       "      <td>48.80</td>\n",
       "      <td>4.880</td>\n",
       "      <td>Critical</td>\n",
       "      <td>HY-00172</td>\n",
       "      <td>Mathis Mccarthy</td>\n",
       "      <td>Consumer</td>\n",
       "      <td>Zapopan</td>\n",
       "      <td>Jalisco</td>\n",
       "      <td>Mexico</td>\n",
       "      <td>North</td>\n",
       "    </tr>\n",
       "    <tr>\n",
       "      <th>1</th>\n",
       "      <td>AU-2022-1473</td>\n",
       "      <td>2022-01-01</td>\n",
       "      <td>2022-01-08</td>\n",
       "      <td>First Class</td>\n",
       "      <td>Auto &amp; Accessories</td>\n",
       "      <td>Bike Tyres</td>\n",
       "      <td>72</td>\n",
       "      <td>5</td>\n",
       "      <td>0.02</td>\n",
       "      <td>14.40</td>\n",
       "      <td>1.440</td>\n",
       "      <td>Medium</td>\n",
       "      <td>NI-001473</td>\n",
       "      <td>Blanchard Vittorini</td>\n",
       "      <td>Consumer</td>\n",
       "      <td>Seoul</td>\n",
       "      <td>Seoul</td>\n",
       "      <td>South Korea</td>\n",
       "      <td>North Asia</td>\n",
       "    </tr>\n",
       "    <tr>\n",
       "      <th>2</th>\n",
       "      <td>AU-2022-1650</td>\n",
       "      <td>2022-01-01</td>\n",
       "      <td>2022-01-11</td>\n",
       "      <td>First Class</td>\n",
       "      <td>Auto &amp; Accessories</td>\n",
       "      <td>Car Body Covers</td>\n",
       "      <td>117</td>\n",
       "      <td>5</td>\n",
       "      <td>0.02</td>\n",
       "      <td>25.30</td>\n",
       "      <td>2.530</td>\n",
       "      <td>High</td>\n",
       "      <td>UM-001650</td>\n",
       "      <td>Hood Mitchum</td>\n",
       "      <td>Home Office</td>\n",
       "      <td>Roodepoort</td>\n",
       "      <td>Gauteng</td>\n",
       "      <td>South Africa</td>\n",
       "      <td>Africa</td>\n",
       "    </tr>\n",
       "    <tr>\n",
       "      <th>3</th>\n",
       "      <td>AU-2022-1999</td>\n",
       "      <td>2022-01-01</td>\n",
       "      <td>2022-01-09</td>\n",
       "      <td>First Class</td>\n",
       "      <td>Auto &amp; Accessories</td>\n",
       "      <td>Car Media Players</td>\n",
       "      <td>140</td>\n",
       "      <td>4</td>\n",
       "      <td>0.02</td>\n",
       "      <td>48.80</td>\n",
       "      <td>4.880</td>\n",
       "      <td>High</td>\n",
       "      <td>CK-001999</td>\n",
       "      <td>Nicholson Murdock</td>\n",
       "      <td>Consumer</td>\n",
       "      <td>Istanbul</td>\n",
       "      <td>Istanbul</td>\n",
       "      <td>Turkey</td>\n",
       "      <td>EMEA</td>\n",
       "    </tr>\n",
       "    <tr>\n",
       "      <th>4</th>\n",
       "      <td>AU-2022-2155</td>\n",
       "      <td>2022-01-01</td>\n",
       "      <td>2022-01-11</td>\n",
       "      <td>First Class</td>\n",
       "      <td>Auto &amp; Accessories</td>\n",
       "      <td>Car &amp; Bike Care</td>\n",
       "      <td>118</td>\n",
       "      <td>3</td>\n",
       "      <td>0.02</td>\n",
       "      <td>30.92</td>\n",
       "      <td>3.092</td>\n",
       "      <td>High</td>\n",
       "      <td>LD-002155</td>\n",
       "      <td>Medina Fjeld</td>\n",
       "      <td>Home Office</td>\n",
       "      <td>Santa Catarina</td>\n",
       "      <td>Nuevo León</td>\n",
       "      <td>Mexico</td>\n",
       "      <td>North</td>\n",
       "    </tr>\n",
       "  </tbody>\n",
       "</table>\n",
       "</div>"
      ],
      "text/plain": [
       "       Order ID Order Date Shipping Date    Ship Mode    Product Category  \\\n",
       "0   AU-2022-172 2022-01-01    2022-01-09  First Class  Auto & Accessories   \n",
       "1  AU-2022-1473 2022-01-01    2022-01-08  First Class  Auto & Accessories   \n",
       "2  AU-2022-1650 2022-01-01    2022-01-11  First Class  Auto & Accessories   \n",
       "3  AU-2022-1999 2022-01-01    2022-01-09  First Class  Auto & Accessories   \n",
       "4  AU-2022-2155 2022-01-01    2022-01-11  First Class  Auto & Accessories   \n",
       "\n",
       "             Product  Sales  Quantity  Discount  Profit  Shipping Cost  \\\n",
       "0  Car Media Players    140         4      0.02   48.80          4.880   \n",
       "1         Bike Tyres     72         5      0.02   14.40          1.440   \n",
       "2    Car Body Covers    117         5      0.02   25.30          2.530   \n",
       "3  Car Media Players    140         4      0.02   48.80          4.880   \n",
       "4    Car & Bike Care    118         3      0.02   30.92          3.092   \n",
       "\n",
       "  Order Priority Customer ID        Customer Name      Segment  \\\n",
       "0       Critical    HY-00172      Mathis Mccarthy     Consumer   \n",
       "1         Medium   NI-001473  Blanchard Vittorini     Consumer   \n",
       "2           High   UM-001650         Hood Mitchum  Home Office   \n",
       "3           High   CK-001999    Nicholson Murdock     Consumer   \n",
       "4           High   LD-002155         Medina Fjeld  Home Office   \n",
       "\n",
       "             City       State       Country      Region  \n",
       "0         Zapopan     Jalisco        Mexico       North  \n",
       "1           Seoul       Seoul   South Korea  North Asia  \n",
       "2      Roodepoort     Gauteng  South Africa      Africa  \n",
       "3        Istanbul    Istanbul        Turkey        EMEA  \n",
       "4  Santa Catarina  Nuevo León        Mexico       North  "
      ]
     },
     "execution_count": 5,
     "metadata": {},
     "output_type": "execute_result"
    }
   ],
   "source": [
    "month_sale.head()"
   ]
  },
  {
   "cell_type": "code",
   "execution_count": 6,
   "id": "dfe15c67",
   "metadata": {},
   "outputs": [],
   "source": [
    "# showing last five rows of dataset month_sale"
   ]
  },
  {
   "cell_type": "code",
   "execution_count": 7,
   "id": "8de27500",
   "metadata": {},
   "outputs": [
    {
     "data": {
      "text/html": [
       "<div>\n",
       "<style scoped>\n",
       "    .dataframe tbody tr th:only-of-type {\n",
       "        vertical-align: middle;\n",
       "    }\n",
       "\n",
       "    .dataframe tbody tr th {\n",
       "        vertical-align: top;\n",
       "    }\n",
       "\n",
       "    .dataframe thead th {\n",
       "        text-align: right;\n",
       "    }\n",
       "</style>\n",
       "<table border=\"1\" class=\"dataframe\">\n",
       "  <thead>\n",
       "    <tr style=\"text-align: right;\">\n",
       "      <th></th>\n",
       "      <th>Order ID</th>\n",
       "      <th>Order Date</th>\n",
       "      <th>Shipping Date</th>\n",
       "      <th>Ship Mode</th>\n",
       "      <th>Product Category</th>\n",
       "      <th>Product</th>\n",
       "      <th>Sales</th>\n",
       "      <th>Quantity</th>\n",
       "      <th>Discount</th>\n",
       "      <th>Profit</th>\n",
       "      <th>Shipping Cost</th>\n",
       "      <th>Order Priority</th>\n",
       "      <th>Customer ID</th>\n",
       "      <th>Customer Name</th>\n",
       "      <th>Segment</th>\n",
       "      <th>City</th>\n",
       "      <th>State</th>\n",
       "      <th>Country</th>\n",
       "      <th>Region</th>\n",
       "    </tr>\n",
       "  </thead>\n",
       "  <tbody>\n",
       "    <tr>\n",
       "      <th>4360</th>\n",
       "      <td>FA-2022-30359</td>\n",
       "      <td>2022-01-31</td>\n",
       "      <td>2022-02-01</td>\n",
       "      <td>Standard Class</td>\n",
       "      <td>Fashion</td>\n",
       "      <td>T - Shirts</td>\n",
       "      <td>248</td>\n",
       "      <td>1</td>\n",
       "      <td>0.01</td>\n",
       "      <td>165.52</td>\n",
       "      <td>16.552</td>\n",
       "      <td>Medium</td>\n",
       "      <td>DY-0040565</td>\n",
       "      <td>Parks Grady</td>\n",
       "      <td>Corporate</td>\n",
       "      <td>Everett</td>\n",
       "      <td>Washington</td>\n",
       "      <td>United States</td>\n",
       "      <td>West</td>\n",
       "    </tr>\n",
       "    <tr>\n",
       "      <th>4361</th>\n",
       "      <td>FA-2022-30373</td>\n",
       "      <td>2022-01-31</td>\n",
       "      <td>2022-02-08</td>\n",
       "      <td>Standard Class</td>\n",
       "      <td>Fashion</td>\n",
       "      <td>Suits</td>\n",
       "      <td>109</td>\n",
       "      <td>2</td>\n",
       "      <td>0.02</td>\n",
       "      <td>24.64</td>\n",
       "      <td>2.464</td>\n",
       "      <td>Medium</td>\n",
       "      <td>LL-0040579</td>\n",
       "      <td>Fischer O'Donnell</td>\n",
       "      <td>Home Office</td>\n",
       "      <td>Uskudar</td>\n",
       "      <td>Istanbul</td>\n",
       "      <td>Turkey</td>\n",
       "      <td>EMEA</td>\n",
       "    </tr>\n",
       "    <tr>\n",
       "      <th>4362</th>\n",
       "      <td>FA-2022-30433</td>\n",
       "      <td>2022-01-31</td>\n",
       "      <td>2022-02-09</td>\n",
       "      <td>Standard Class</td>\n",
       "      <td>Fashion</td>\n",
       "      <td>Sneakers</td>\n",
       "      <td>62</td>\n",
       "      <td>5</td>\n",
       "      <td>0.05</td>\n",
       "      <td>12.40</td>\n",
       "      <td>1.240</td>\n",
       "      <td>Medium</td>\n",
       "      <td>ER-0040639</td>\n",
       "      <td>Richmond Wiediger</td>\n",
       "      <td>Home Office</td>\n",
       "      <td>Blumenau</td>\n",
       "      <td>Santa Catarina</td>\n",
       "      <td>Brazil</td>\n",
       "      <td>South</td>\n",
       "    </tr>\n",
       "    <tr>\n",
       "      <th>4363</th>\n",
       "      <td>FA-2022-30635</td>\n",
       "      <td>2022-01-31</td>\n",
       "      <td>2022-02-07</td>\n",
       "      <td>Standard Class</td>\n",
       "      <td>Fashion</td>\n",
       "      <td>Shirts</td>\n",
       "      <td>196</td>\n",
       "      <td>1</td>\n",
       "      <td>0.04</td>\n",
       "      <td>108.16</td>\n",
       "      <td>10.816</td>\n",
       "      <td>High</td>\n",
       "      <td>RS-0040841</td>\n",
       "      <td>Mercado Stivers</td>\n",
       "      <td>Consumer</td>\n",
       "      <td>Atlanta</td>\n",
       "      <td>Georgia</td>\n",
       "      <td>United States</td>\n",
       "      <td>South</td>\n",
       "    </tr>\n",
       "    <tr>\n",
       "      <th>4364</th>\n",
       "      <td>FA-2022-30696</td>\n",
       "      <td>2022-01-31</td>\n",
       "      <td>2022-02-08</td>\n",
       "      <td>Standard Class</td>\n",
       "      <td>Fashion</td>\n",
       "      <td>Formal Shoes</td>\n",
       "      <td>213</td>\n",
       "      <td>4</td>\n",
       "      <td>0.04</td>\n",
       "      <td>98.92</td>\n",
       "      <td>9.892</td>\n",
       "      <td>Medium</td>\n",
       "      <td>LL-0040902</td>\n",
       "      <td>Campbell Bell</td>\n",
       "      <td>Corporate</td>\n",
       "      <td>Dallas</td>\n",
       "      <td>Texas</td>\n",
       "      <td>United States</td>\n",
       "      <td>Central</td>\n",
       "    </tr>\n",
       "  </tbody>\n",
       "</table>\n",
       "</div>"
      ],
      "text/plain": [
       "           Order ID Order Date Shipping Date       Ship Mode Product Category  \\\n",
       "4360  FA-2022-30359 2022-01-31    2022-02-01  Standard Class          Fashion   \n",
       "4361  FA-2022-30373 2022-01-31    2022-02-08  Standard Class          Fashion   \n",
       "4362  FA-2022-30433 2022-01-31    2022-02-09  Standard Class          Fashion   \n",
       "4363  FA-2022-30635 2022-01-31    2022-02-07  Standard Class          Fashion   \n",
       "4364  FA-2022-30696 2022-01-31    2022-02-08  Standard Class          Fashion   \n",
       "\n",
       "           Product  Sales  Quantity  Discount  Profit  Shipping Cost  \\\n",
       "4360    T - Shirts    248         1      0.01  165.52         16.552   \n",
       "4361         Suits    109         2      0.02   24.64          2.464   \n",
       "4362      Sneakers     62         5      0.05   12.40          1.240   \n",
       "4363        Shirts    196         1      0.04  108.16         10.816   \n",
       "4364  Formal Shoes    213         4      0.04   98.92          9.892   \n",
       "\n",
       "     Order Priority Customer ID      Customer Name      Segment      City  \\\n",
       "4360         Medium  DY-0040565        Parks Grady    Corporate   Everett   \n",
       "4361         Medium  LL-0040579  Fischer O'Donnell  Home Office   Uskudar   \n",
       "4362         Medium  ER-0040639  Richmond Wiediger  Home Office  Blumenau   \n",
       "4363           High  RS-0040841    Mercado Stivers     Consumer   Atlanta   \n",
       "4364         Medium  LL-0040902      Campbell Bell    Corporate    Dallas   \n",
       "\n",
       "               State        Country   Region  \n",
       "4360      Washington  United States     West  \n",
       "4361        Istanbul         Turkey     EMEA  \n",
       "4362  Santa Catarina         Brazil    South  \n",
       "4363         Georgia  United States    South  \n",
       "4364           Texas  United States  Central  "
      ]
     },
     "execution_count": 7,
     "metadata": {},
     "output_type": "execute_result"
    }
   ],
   "source": [
    "month_sale.tail()"
   ]
  },
  {
   "cell_type": "code",
   "execution_count": 8,
   "id": "f0135267",
   "metadata": {},
   "outputs": [
    {
     "data": {
      "text/plain": [
       "4365"
      ]
     },
     "execution_count": 8,
     "metadata": {},
     "output_type": "execute_result"
    }
   ],
   "source": [
    "# Showing total number of rows \n",
    "month_sale.shape[0]  # (month_sale.shape[1]) for number of columns"
   ]
  },
  {
   "cell_type": "code",
   "execution_count": 9,
   "id": "afc40aab",
   "metadata": {},
   "outputs": [
    {
     "data": {
      "text/plain": [
       "82935"
      ]
     },
     "execution_count": 9,
     "metadata": {},
     "output_type": "execute_result"
    }
   ],
   "source": [
    "# Showing total number of rows multiply by columns in the dataset\n",
    "month_sale.size "
   ]
  },
  {
   "cell_type": "code",
   "execution_count": 10,
   "id": "ced8fc65",
   "metadata": {},
   "outputs": [
    {
     "name": "stdout",
     "output_type": "stream",
     "text": [
      "<class 'pandas.core.frame.DataFrame'>\n",
      "RangeIndex: 4365 entries, 0 to 4364\n",
      "Data columns (total 19 columns):\n",
      " #   Column            Non-Null Count  Dtype         \n",
      "---  ------            --------------  -----         \n",
      " 0   Order ID          4365 non-null   object        \n",
      " 1   Order Date        4365 non-null   datetime64[ns]\n",
      " 2   Shipping Date     4365 non-null   datetime64[ns]\n",
      " 3   Ship Mode         4365 non-null   object        \n",
      " 4   Product Category  4365 non-null   object        \n",
      " 5   Product           4365 non-null   object        \n",
      " 6   Sales             4365 non-null   int64         \n",
      " 7   Quantity          4365 non-null   int64         \n",
      " 8   Discount          4365 non-null   float64       \n",
      " 9   Profit            4365 non-null   float64       \n",
      " 10  Shipping Cost     4365 non-null   float64       \n",
      " 11  Order Priority    4365 non-null   object        \n",
      " 12  Customer ID       4365 non-null   object        \n",
      " 13  Customer Name     4365 non-null   object        \n",
      " 14  Segment           4365 non-null   object        \n",
      " 15  City              4365 non-null   object        \n",
      " 16  State             4365 non-null   object        \n",
      " 17  Country           4365 non-null   object        \n",
      " 18  Region            4365 non-null   object        \n",
      "dtypes: datetime64[ns](2), float64(3), int64(2), object(12)\n",
      "memory usage: 648.1+ KB\n"
     ]
    }
   ],
   "source": [
    "# Showing all columns name with their datatype , null and non-null values count \n",
    "month_sale.info()"
   ]
  },
  {
   "cell_type": "code",
   "execution_count": 11,
   "id": "22685eb4",
   "metadata": {},
   "outputs": [
    {
     "data": {
      "text/html": [
       "<div>\n",
       "<style scoped>\n",
       "    .dataframe tbody tr th:only-of-type {\n",
       "        vertical-align: middle;\n",
       "    }\n",
       "\n",
       "    .dataframe tbody tr th {\n",
       "        vertical-align: top;\n",
       "    }\n",
       "\n",
       "    .dataframe thead th {\n",
       "        text-align: right;\n",
       "    }\n",
       "</style>\n",
       "<table border=\"1\" class=\"dataframe\">\n",
       "  <thead>\n",
       "    <tr style=\"text-align: right;\">\n",
       "      <th></th>\n",
       "      <th>Sales</th>\n",
       "      <th>Quantity</th>\n",
       "      <th>Discount</th>\n",
       "      <th>Profit</th>\n",
       "      <th>Shipping Cost</th>\n",
       "    </tr>\n",
       "  </thead>\n",
       "  <tbody>\n",
       "    <tr>\n",
       "      <th>count</th>\n",
       "      <td>4365.000000</td>\n",
       "      <td>4365.000000</td>\n",
       "      <td>4365.000000</td>\n",
       "      <td>4365.000000</td>\n",
       "      <td>4365.000000</td>\n",
       "    </tr>\n",
       "    <tr>\n",
       "      <th>mean</th>\n",
       "      <td>154.939977</td>\n",
       "      <td>2.974800</td>\n",
       "      <td>0.030192</td>\n",
       "      <td>71.836506</td>\n",
       "      <td>7.183651</td>\n",
       "    </tr>\n",
       "    <tr>\n",
       "      <th>std</th>\n",
       "      <td>65.642639</td>\n",
       "      <td>1.427697</td>\n",
       "      <td>0.014125</td>\n",
       "      <td>49.003066</td>\n",
       "      <td>4.900307</td>\n",
       "    </tr>\n",
       "    <tr>\n",
       "      <th>min</th>\n",
       "      <td>33.000000</td>\n",
       "      <td>1.000000</td>\n",
       "      <td>0.010000</td>\n",
       "      <td>0.510000</td>\n",
       "      <td>0.051000</td>\n",
       "    </tr>\n",
       "    <tr>\n",
       "      <th>25%</th>\n",
       "      <td>109.000000</td>\n",
       "      <td>2.000000</td>\n",
       "      <td>0.020000</td>\n",
       "      <td>24.640000</td>\n",
       "      <td>2.464000</td>\n",
       "    </tr>\n",
       "    <tr>\n",
       "      <th>50%</th>\n",
       "      <td>159.000000</td>\n",
       "      <td>3.000000</td>\n",
       "      <td>0.030000</td>\n",
       "      <td>66.280000</td>\n",
       "      <td>6.628000</td>\n",
       "    </tr>\n",
       "    <tr>\n",
       "      <th>75%</th>\n",
       "      <td>218.000000</td>\n",
       "      <td>4.000000</td>\n",
       "      <td>0.040000</td>\n",
       "      <td>120.000000</td>\n",
       "      <td>12.000000</td>\n",
       "    </tr>\n",
       "    <tr>\n",
       "      <th>max</th>\n",
       "      <td>250.000000</td>\n",
       "      <td>5.000000</td>\n",
       "      <td>0.050000</td>\n",
       "      <td>167.500000</td>\n",
       "      <td>16.750000</td>\n",
       "    </tr>\n",
       "  </tbody>\n",
       "</table>\n",
       "</div>"
      ],
      "text/plain": [
       "             Sales     Quantity     Discount       Profit  Shipping Cost\n",
       "count  4365.000000  4365.000000  4365.000000  4365.000000    4365.000000\n",
       "mean    154.939977     2.974800     0.030192    71.836506       7.183651\n",
       "std      65.642639     1.427697     0.014125    49.003066       4.900307\n",
       "min      33.000000     1.000000     0.010000     0.510000       0.051000\n",
       "25%     109.000000     2.000000     0.020000    24.640000       2.464000\n",
       "50%     159.000000     3.000000     0.030000    66.280000       6.628000\n",
       "75%     218.000000     4.000000     0.040000   120.000000      12.000000\n",
       "max     250.000000     5.000000     0.050000   167.500000      16.750000"
      ]
     },
     "execution_count": 11,
     "metadata": {},
     "output_type": "execute_result"
    }
   ],
   "source": [
    "# Showing the statistics properties of all numerical columns like mean, std,  count, min,max etc.\n",
    "month_sale.describe()"
   ]
  },
  {
   "cell_type": "code",
   "execution_count": 12,
   "id": "7f92d87e",
   "metadata": {},
   "outputs": [
    {
     "data": {
      "text/plain": [
       "Order ID            4365\n",
       "Order Date            31\n",
       "Shipping Date         41\n",
       "Ship Mode              4\n",
       "Product Category       4\n",
       "Product               42\n",
       "Sales                 39\n",
       "Quantity               5\n",
       "Discount               5\n",
       "Profit               418\n",
       "Shipping Cost        415\n",
       "Order Priority         4\n",
       "Customer ID         4365\n",
       "Customer Name        792\n",
       "Segment                3\n",
       "City                1631\n",
       "State                706\n",
       "Country              128\n",
       "Region                13\n",
       "dtype: int64"
      ]
     },
     "execution_count": 12,
     "metadata": {},
     "output_type": "execute_result"
    }
   ],
   "source": [
    "# showing the total number of unique values in each of the column.\n",
    "month_sale.nunique()"
   ]
  },
  {
   "cell_type": "code",
   "execution_count": 13,
   "id": "9059d4f9",
   "metadata": {},
   "outputs": [
    {
     "data": {
      "text/plain": [
       "Order ID            0\n",
       "Order Date          0\n",
       "Shipping Date       0\n",
       "Ship Mode           0\n",
       "Product Category    0\n",
       "Product             0\n",
       "Sales               0\n",
       "Quantity            0\n",
       "Discount            0\n",
       "Profit              0\n",
       "Shipping Cost       0\n",
       "Order Priority      0\n",
       "Customer ID         0\n",
       "Customer Name       0\n",
       "Segment             0\n",
       "City                0\n",
       "State               0\n",
       "Country             0\n",
       "Region              0\n",
       "dtype: int64"
      ]
     },
     "execution_count": 13,
     "metadata": {},
     "output_type": "execute_result"
    }
   ],
   "source": [
    "# To check if there is any value missing in the given dataset columns.\n",
    "month_sale.isnull().sum()"
   ]
  },
  {
   "cell_type": "code",
   "execution_count": 14,
   "id": "f2d1b433",
   "metadata": {},
   "outputs": [
    {
     "data": {
      "text/plain": [
       "Index(['Order ID', 'Order Date', 'Shipping Date', 'Ship Mode',\n",
       "       'Product Category', 'Product', 'Sales', 'Quantity', 'Discount',\n",
       "       'Profit', 'Shipping Cost', 'Order Priority', 'Customer ID',\n",
       "       'Customer Name', 'Segment', 'City', 'State', 'Country', 'Region'],\n",
       "      dtype='object')"
      ]
     },
     "execution_count": 14,
     "metadata": {},
     "output_type": "execute_result"
    }
   ],
   "source": [
    "# to get the names of the all columns\n",
    "month_sale.columns\n"
   ]
  },
  {
   "cell_type": "code",
   "execution_count": 15,
   "id": "3ccc250e",
   "metadata": {},
   "outputs": [],
   "source": [
    "# Now data analysis processe \n"
   ]
  },
  {
   "cell_type": "markdown",
   "id": "94b8f48f",
   "metadata": {},
   "source": [
    "# Q- 1) Find the total number of sales?\n"
   ]
  },
  {
   "cell_type": "code",
   "execution_count": 16,
   "id": "af612ed3",
   "metadata": {},
   "outputs": [
    {
     "data": {
      "text/plain": [
       "676313"
      ]
     },
     "execution_count": 16,
     "metadata": {},
     "output_type": "execute_result"
    }
   ],
   "source": [
    "# Total sales of the month\n",
    "month_sale['Sales'].sum()"
   ]
  },
  {
   "cell_type": "code",
   "execution_count": 17,
   "id": "47cde06c",
   "metadata": {},
   "outputs": [
    {
     "data": {
      "text/plain": [
       "array(['Auto & Accessories', 'Electronic', 'Home & Furniture', 'Fashion'],\n",
       "      dtype=object)"
      ]
     },
     "execution_count": 17,
     "metadata": {},
     "output_type": "execute_result"
    }
   ],
   "source": [
    "Category = month_sale['Product Category'].unique()\n",
    "Category"
   ]
  },
  {
   "cell_type": "code",
   "execution_count": 18,
   "id": "ecb759ec",
   "metadata": {},
   "outputs": [
    {
     "data": {
      "text/html": [
       "<div>\n",
       "<style scoped>\n",
       "    .dataframe tbody tr th:only-of-type {\n",
       "        vertical-align: middle;\n",
       "    }\n",
       "\n",
       "    .dataframe tbody tr th {\n",
       "        vertical-align: top;\n",
       "    }\n",
       "\n",
       "    .dataframe thead th {\n",
       "        text-align: right;\n",
       "    }\n",
       "</style>\n",
       "<table border=\"1\" class=\"dataframe\">\n",
       "  <thead>\n",
       "    <tr style=\"text-align: right;\">\n",
       "      <th></th>\n",
       "      <th>Sales</th>\n",
       "      <th>Product Category</th>\n",
       "    </tr>\n",
       "  </thead>\n",
       "  <tbody>\n",
       "    <tr>\n",
       "      <th>0</th>\n",
       "      <td>140</td>\n",
       "      <td>Auto &amp; Accessories</td>\n",
       "    </tr>\n",
       "    <tr>\n",
       "      <th>1</th>\n",
       "      <td>72</td>\n",
       "      <td>Auto &amp; Accessories</td>\n",
       "    </tr>\n",
       "    <tr>\n",
       "      <th>2</th>\n",
       "      <td>117</td>\n",
       "      <td>Auto &amp; Accessories</td>\n",
       "    </tr>\n",
       "    <tr>\n",
       "      <th>3</th>\n",
       "      <td>140</td>\n",
       "      <td>Auto &amp; Accessories</td>\n",
       "    </tr>\n",
       "    <tr>\n",
       "      <th>4</th>\n",
       "      <td>118</td>\n",
       "      <td>Auto &amp; Accessories</td>\n",
       "    </tr>\n",
       "    <tr>\n",
       "      <th>...</th>\n",
       "      <td>...</td>\n",
       "      <td>...</td>\n",
       "    </tr>\n",
       "    <tr>\n",
       "      <th>4360</th>\n",
       "      <td>248</td>\n",
       "      <td>Fashion</td>\n",
       "    </tr>\n",
       "    <tr>\n",
       "      <th>4361</th>\n",
       "      <td>109</td>\n",
       "      <td>Fashion</td>\n",
       "    </tr>\n",
       "    <tr>\n",
       "      <th>4362</th>\n",
       "      <td>62</td>\n",
       "      <td>Fashion</td>\n",
       "    </tr>\n",
       "    <tr>\n",
       "      <th>4363</th>\n",
       "      <td>196</td>\n",
       "      <td>Fashion</td>\n",
       "    </tr>\n",
       "    <tr>\n",
       "      <th>4364</th>\n",
       "      <td>213</td>\n",
       "      <td>Fashion</td>\n",
       "    </tr>\n",
       "  </tbody>\n",
       "</table>\n",
       "<p>4365 rows × 2 columns</p>\n",
       "</div>"
      ],
      "text/plain": [
       "      Sales    Product Category\n",
       "0       140  Auto & Accessories\n",
       "1        72  Auto & Accessories\n",
       "2       117  Auto & Accessories\n",
       "3       140  Auto & Accessories\n",
       "4       118  Auto & Accessories\n",
       "...     ...                 ...\n",
       "4360    248             Fashion\n",
       "4361    109             Fashion\n",
       "4362     62             Fashion\n",
       "4363    196             Fashion\n",
       "4364    213             Fashion\n",
       "\n",
       "[4365 rows x 2 columns]"
      ]
     },
     "execution_count": 18,
     "metadata": {},
     "output_type": "execute_result"
    }
   ],
   "source": [
    "month_sale[['Sales','Product Category']]"
   ]
  },
  {
   "cell_type": "code",
   "execution_count": 19,
   "id": "20a9d8d1",
   "metadata": {},
   "outputs": [
    {
     "data": {
      "text/plain": [
       "1.1333333333333335"
      ]
     },
     "execution_count": 19,
     "metadata": {},
     "output_type": "execute_result"
    }
   ],
   "source": [
    "month_sale.loc[546, 'Shipping Cost']    # targeting 546 index row from 'Shipping Cost' column."
   ]
  },
  {
   "cell_type": "code",
   "execution_count": 20,
   "id": "1b297be4",
   "metadata": {},
   "outputs": [
    {
     "data": {
      "text/plain": [
       "'Fashion'"
      ]
     },
     "execution_count": 20,
     "metadata": {},
     "output_type": "execute_result"
    }
   ],
   "source": [
    "month_sale.iloc[345, 4] # targeting a specific value location."
   ]
  },
  {
   "cell_type": "code",
   "execution_count": 21,
   "id": "5104909e",
   "metadata": {},
   "outputs": [
    {
     "data": {
      "text/plain": [
       "Order ID                     FA-2022-27698\n",
       "Order Date             2022-01-06 00:00:00\n",
       "Shipping Date          2022-01-16 00:00:00\n",
       "Ship Mode                   Standard Class\n",
       "Product Category                   Fashion\n",
       "Product                             Shirts\n",
       "Sales                                  196\n",
       "Quantity                                 1\n",
       "Discount                              0.03\n",
       "Profit                              110.12\n",
       "Shipping Cost                       11.012\n",
       "Order Priority                      Medium\n",
       "Customer ID                     IN-0037904\n",
       "Customer Name               Terrell Zeldin\n",
       "Segment                           Consumer\n",
       "City                             Stadtlohn\n",
       "State               North Rhine-Westphalia\n",
       "Country                            Germany\n",
       "Region                             Central\n",
       "Name: 789, dtype: object"
      ]
     },
     "execution_count": 21,
     "metadata": {},
     "output_type": "execute_result"
    }
   ],
   "source": [
    "month_sale.iloc[789]  # targeting a specific Row (index 789)."
   ]
  },
  {
   "cell_type": "code",
   "execution_count": 22,
   "id": "153f1457",
   "metadata": {},
   "outputs": [
    {
     "data": {
      "text/plain": [
       "0              Jalisco\n",
       "1                Seoul\n",
       "2              Gauteng\n",
       "3             Istanbul\n",
       "4           Nuevo León\n",
       "             ...      \n",
       "4360        Washington\n",
       "4361          Istanbul\n",
       "4362    Santa Catarina\n",
       "4363           Georgia\n",
       "4364             Texas\n",
       "Name: State, Length: 4365, dtype: object"
      ]
     },
     "execution_count": 22,
     "metadata": {},
     "output_type": "execute_result"
    }
   ],
   "source": [
    "month_sale['State'] # Targeting a specific column."
   ]
  },
  {
   "cell_type": "code",
   "execution_count": 23,
   "id": "ab7a041a",
   "metadata": {},
   "outputs": [
    {
     "data": {
      "text/plain": [
       "Index(['Fashion', 'Home & Furniture', 'Auto & Accessories', 'Electronic'], dtype='object')"
      ]
     },
     "execution_count": 23,
     "metadata": {},
     "output_type": "execute_result"
    }
   ],
   "source": [
    "month_sale['Product Category'].value_counts().keys()"
   ]
  },
  {
   "cell_type": "code",
   "execution_count": null,
   "id": "716a1968",
   "metadata": {},
   "outputs": [],
   "source": []
  },
  {
   "cell_type": "code",
   "execution_count": 24,
   "id": "4a1c9e6b",
   "metadata": {},
   "outputs": [
    {
     "data": {
      "text/plain": [
       "31280"
      ]
     },
     "execution_count": 24,
     "metadata": {},
     "output_type": "execute_result"
    }
   ],
   "source": [
    "month_sale[month_sale['Product Category'] == 'Electronic']['Sales'].sum() # Category Wise Sales"
   ]
  },
  {
   "cell_type": "code",
   "execution_count": 25,
   "id": "7eff330f",
   "metadata": {},
   "outputs": [
    {
     "ename": "NameError",
     "evalue": "name 'products' is not defined",
     "output_type": "error",
     "traceback": [
      "\u001b[1;31m---------------------------------------------------------------------------\u001b[0m",
      "\u001b[1;31mNameError\u001b[0m                                 Traceback (most recent call last)",
      "Cell \u001b[1;32mIn[25], line 1\u001b[0m\n\u001b[1;32m----> 1\u001b[0m \u001b[43mproducts\u001b[49m\n",
      "\u001b[1;31mNameError\u001b[0m: name 'products' is not defined"
     ]
    }
   ],
   "source": [
    "products"
   ]
  },
  {
   "cell_type": "markdown",
   "id": "ed23914b",
   "metadata": {},
   "source": [
    "# 2nd ) Relation between Sales and Product category."
   ]
  },
  {
   "cell_type": "code",
   "execution_count": 45,
   "id": "3ed24389",
   "metadata": {},
   "outputs": [
    {
     "data": {
      "text/plain": [
       "array(['Auto & Accessories', 'Electronic', 'Home & Furniture', 'Fashion'],\n",
       "      dtype=object)"
      ]
     },
     "execution_count": 45,
     "metadata": {},
     "output_type": "execute_result"
    }
   ],
   "source": [
    "products_category = month_sale['Product Category'].unique()\n",
    "products_category"
   ]
  },
  {
   "cell_type": "code",
   "execution_count": 46,
   "id": "e17c08d6",
   "metadata": {},
   "outputs": [
    {
     "data": {
      "text/plain": [
       "31280"
      ]
     },
     "execution_count": 46,
     "metadata": {},
     "output_type": "execute_result"
    }
   ],
   "source": [
    "# Showing the total sales related to a particular category\n",
    "\n",
    "month_sale[month_sale['Product Category']=='Electronic']['Sales'].sum()  "
   ]
  },
  {
   "cell_type": "code",
   "execution_count": 60,
   "id": "43f4a727",
   "metadata": {},
   "outputs": [
    {
     "data": {
      "image/png": "[encoded data removed]",
      "text/plain": [
       "<Figure size 600x400 with 1 Axes>"
      ]
     },
     "metadata": {},
     "output_type": "display_data"
    }
   ],
   "source": [
    "a = []\n",
    "b = []\n",
    "for item in products_category:\n",
    "    x = month_sale[month_sale['Product Category']==item]['Sales'].sum()\n",
    "    a.append(x)\n",
    "    b.append(item)\n",
    "\n",
    "# print(b)\n",
    "# print(a)\n",
    "\n",
    "plt.figure(figsize=(6,4))           \n",
    "plt.bar(b,a,color = 'blue')\n",
    "plt.title('Product Category Wise Sales')\n",
    "plt.xlabel('Product Category')\n",
    "plt.ylabel('Total Sales($)')           \n",
    "plt.show()"
   ]
  },
  {
   "cell_type": "markdown",
   "id": "402a7bbd",
   "metadata": {},
   "source": [
    "# 3) What is the value of Average Delivery Days?"
   ]
  },
  {
   "cell_type": "code",
   "execution_count": null,
   "id": "5090a216",
   "metadata": {},
   "outputs": [],
   "source": [
    "\n",
    "Total_Delivery_Days =  (month_sale['Shipping Date'] - month_sale['Order Date']).sum()\n",
    "Average_delivery_days= Total_Delivery_Days / month_sale['Order ID'].count()"
   ]
  },
  {
   "cell_type": "code",
   "execution_count": null,
   "id": "a9e43898",
   "metadata": {},
   "outputs": [],
   "source": [
    "Average_delivery_days"
   ]
  },
  {
   "cell_type": "markdown",
   "id": "71e2baf1",
   "metadata": {},
   "source": [
    "# 4) what is the sales by product name?\n"
   ]
  },
  {
   "cell_type": "code",
   "execution_count": null,
   "id": "ab4f3d85",
   "metadata": {},
   "outputs": [],
   "source": [
    "Product_name= month_sale['Product'].unique()\n",
    "\n",
    "d = list(Product_name) \n",
    "print(d)"
   ]
  },
  {
   "cell_type": "code",
   "execution_count": null,
   "id": "59225edc",
   "metadata": {},
   "outputs": [],
   "source": [
    "# Showing the total Sales of a specific product\n",
    "\n",
    "month_sale[month_sale['Product']=='Tablet']['Sales'].sum()"
   ]
  },
  {
   "cell_type": "code",
   "execution_count": null,
   "id": "3aecad94",
   "metadata": {},
   "outputs": [],
   "source": [
    "c = []\n",
    "\n",
    "for items in Product_name:\n",
    "    y = month_sale[month_sale['Product']==items]['Sales'].sum()\n",
    "    c.append(y)   \n",
    "print(c)\n",
    "\n"
   ]
  },
  {
   "cell_type": "code",
   "execution_count": null,
   "id": "d5df241d",
   "metadata": {},
   "outputs": [],
   "source": [
    "# Total sales of the each products\n",
    "\n",
    "\n",
    "e =[]\n",
    "for i in range(len(c)):\n",
    "    e.append(d[i])\n",
    "    e.append(c[i])\n",
    "print(e)"
   ]
  },
  {
   "cell_type": "markdown",
   "id": "ac356b08",
   "metadata": {},
   "source": [
    "# 5)  Calculate Profit by  product name?\n",
    "\n"
   ]
  },
  {
   "cell_type": "code",
   "execution_count": 71,
   "id": "22dc0267",
   "metadata": {},
   "outputs": [
    {
     "data": {
      "text/html": [
       "<div>\n",
       "<style scoped>\n",
       "    .dataframe tbody tr th:only-of-type {\n",
       "        vertical-align: middle;\n",
       "    }\n",
       "\n",
       "    .dataframe tbody tr th {\n",
       "        vertical-align: top;\n",
       "    }\n",
       "\n",
       "    .dataframe thead th {\n",
       "        text-align: right;\n",
       "    }\n",
       "</style>\n",
       "<table border=\"1\" class=\"dataframe\">\n",
       "  <thead>\n",
       "    <tr style=\"text-align: right;\">\n",
       "      <th></th>\n",
       "      <th>Order ID</th>\n",
       "      <th>Order Date</th>\n",
       "      <th>Shipping Date</th>\n",
       "      <th>Ship Mode</th>\n",
       "      <th>Product Category</th>\n",
       "      <th>Product</th>\n",
       "      <th>Sales</th>\n",
       "      <th>Quantity</th>\n",
       "      <th>Discount</th>\n",
       "      <th>Profit</th>\n",
       "      <th>Shipping Cost</th>\n",
       "      <th>Order Priority</th>\n",
       "      <th>Customer ID</th>\n",
       "      <th>Customer Name</th>\n",
       "      <th>Segment</th>\n",
       "      <th>City</th>\n",
       "      <th>State</th>\n",
       "      <th>Country</th>\n",
       "      <th>Region</th>\n",
       "    </tr>\n",
       "  </thead>\n",
       "  <tbody>\n",
       "    <tr>\n",
       "      <th>1196</th>\n",
       "      <td>AU-2022-932</td>\n",
       "      <td>2022-01-10</td>\n",
       "      <td>2022-01-16</td>\n",
       "      <td>First Class</td>\n",
       "      <td>Auto &amp; Accessories</td>\n",
       "      <td>Tyre</td>\n",
       "      <td>250</td>\n",
       "      <td>1</td>\n",
       "      <td>0.01</td>\n",
       "      <td>167.50</td>\n",
       "      <td>16.750</td>\n",
       "      <td>High</td>\n",
       "      <td>LL-00932</td>\n",
       "      <td>Booker Russell</td>\n",
       "      <td>Consumer</td>\n",
       "      <td>Ponferrada</td>\n",
       "      <td>Castile and León</td>\n",
       "      <td>Spain</td>\n",
       "      <td>South</td>\n",
       "    </tr>\n",
       "    <tr>\n",
       "      <th>1486</th>\n",
       "      <td>AU-2022-3560</td>\n",
       "      <td>2022-01-12</td>\n",
       "      <td>2022-01-21</td>\n",
       "      <td>First Class</td>\n",
       "      <td>Auto &amp; Accessories</td>\n",
       "      <td>Tyre</td>\n",
       "      <td>250</td>\n",
       "      <td>1</td>\n",
       "      <td>0.01</td>\n",
       "      <td>167.50</td>\n",
       "      <td>16.750</td>\n",
       "      <td>Critical</td>\n",
       "      <td>AS-003560</td>\n",
       "      <td>Holloway Lucas</td>\n",
       "      <td>Consumer</td>\n",
       "      <td>Auckland</td>\n",
       "      <td>Auckland</td>\n",
       "      <td>New Zealand</td>\n",
       "      <td>Oceania</td>\n",
       "    </tr>\n",
       "    <tr>\n",
       "      <th>2502</th>\n",
       "      <td>AU-2022-4010</td>\n",
       "      <td>2022-01-19</td>\n",
       "      <td>2022-01-29</td>\n",
       "      <td>First Class</td>\n",
       "      <td>Auto &amp; Accessories</td>\n",
       "      <td>Tyre</td>\n",
       "      <td>250</td>\n",
       "      <td>1</td>\n",
       "      <td>0.01</td>\n",
       "      <td>167.50</td>\n",
       "      <td>16.750</td>\n",
       "      <td>High</td>\n",
       "      <td>GS-004010</td>\n",
       "      <td>Herman Triggs</td>\n",
       "      <td>Consumer</td>\n",
       "      <td>Newark</td>\n",
       "      <td>Ohio</td>\n",
       "      <td>United States</td>\n",
       "      <td>East</td>\n",
       "    </tr>\n",
       "    <tr>\n",
       "      <th>4231</th>\n",
       "      <td>AU-2022-3731</td>\n",
       "      <td>2022-01-31</td>\n",
       "      <td>2022-02-03</td>\n",
       "      <td>First Class</td>\n",
       "      <td>Auto &amp; Accessories</td>\n",
       "      <td>Tyre</td>\n",
       "      <td>250</td>\n",
       "      <td>1</td>\n",
       "      <td>0.01</td>\n",
       "      <td>167.50</td>\n",
       "      <td>16.750</td>\n",
       "      <td>High</td>\n",
       "      <td>ES-003731</td>\n",
       "      <td>Conner Jones</td>\n",
       "      <td>Corporate</td>\n",
       "      <td>Chongqing</td>\n",
       "      <td>Chongqing</td>\n",
       "      <td>China</td>\n",
       "      <td>North Asia</td>\n",
       "    </tr>\n",
       "    <tr>\n",
       "      <th>1049</th>\n",
       "      <td>FA-2022-30491</td>\n",
       "      <td>2022-01-08</td>\n",
       "      <td>2022-01-09</td>\n",
       "      <td>Standard Class</td>\n",
       "      <td>Fashion</td>\n",
       "      <td>T - Shirts</td>\n",
       "      <td>248</td>\n",
       "      <td>1</td>\n",
       "      <td>0.01</td>\n",
       "      <td>165.52</td>\n",
       "      <td>16.552</td>\n",
       "      <td>Medium</td>\n",
       "      <td>DA-0040697</td>\n",
       "      <td>Moore Andreada</td>\n",
       "      <td>Home Office</td>\n",
       "      <td>Auburn</td>\n",
       "      <td>Washington</td>\n",
       "      <td>United States</td>\n",
       "      <td>West</td>\n",
       "    </tr>\n",
       "    <tr>\n",
       "      <th>...</th>\n",
       "      <td>...</td>\n",
       "      <td>...</td>\n",
       "      <td>...</td>\n",
       "      <td>...</td>\n",
       "      <td>...</td>\n",
       "      <td>...</td>\n",
       "      <td>...</td>\n",
       "      <td>...</td>\n",
       "      <td>...</td>\n",
       "      <td>...</td>\n",
       "      <td>...</td>\n",
       "      <td>...</td>\n",
       "      <td>...</td>\n",
       "      <td>...</td>\n",
       "      <td>...</td>\n",
       "      <td>...</td>\n",
       "      <td>...</td>\n",
       "      <td>...</td>\n",
       "      <td>...</td>\n",
       "    </tr>\n",
       "    <tr>\n",
       "      <th>3119</th>\n",
       "      <td>FA-2022-544</td>\n",
       "      <td>2022-01-23</td>\n",
       "      <td>2022-02-02</td>\n",
       "      <td>Standard Class</td>\n",
       "      <td>Fashion</td>\n",
       "      <td>Sports Wear</td>\n",
       "      <td>85</td>\n",
       "      <td>1</td>\n",
       "      <td>0.05</td>\n",
       "      <td>0.75</td>\n",
       "      <td>0.075</td>\n",
       "      <td>High</td>\n",
       "      <td>RD-0010750</td>\n",
       "      <td>Benton Ward</td>\n",
       "      <td>Corporate</td>\n",
       "      <td>Sydney</td>\n",
       "      <td>New South Wales</td>\n",
       "      <td>Australia</td>\n",
       "      <td>Oceania</td>\n",
       "    </tr>\n",
       "    <tr>\n",
       "      <th>3138</th>\n",
       "      <td>FA-2022-7364</td>\n",
       "      <td>2022-01-23</td>\n",
       "      <td>2022-01-31</td>\n",
       "      <td>Standard Class</td>\n",
       "      <td>Fashion</td>\n",
       "      <td>Sports Wear</td>\n",
       "      <td>85</td>\n",
       "      <td>5</td>\n",
       "      <td>0.01</td>\n",
       "      <td>0.75</td>\n",
       "      <td>0.075</td>\n",
       "      <td>Medium</td>\n",
       "      <td>NG-0017570</td>\n",
       "      <td>Burns Chung</td>\n",
       "      <td>Consumer</td>\n",
       "      <td>Seattle</td>\n",
       "      <td>Washington</td>\n",
       "      <td>United States</td>\n",
       "      <td>West</td>\n",
       "    </tr>\n",
       "    <tr>\n",
       "      <th>3450</th>\n",
       "      <td>FA-2022-7441</td>\n",
       "      <td>2022-01-25</td>\n",
       "      <td>2022-01-26</td>\n",
       "      <td>Standard Class</td>\n",
       "      <td>Fashion</td>\n",
       "      <td>Sports Wear</td>\n",
       "      <td>85</td>\n",
       "      <td>1</td>\n",
       "      <td>0.05</td>\n",
       "      <td>0.75</td>\n",
       "      <td>0.075</td>\n",
       "      <td>Medium</td>\n",
       "      <td>ON-0017647</td>\n",
       "      <td>Rowe Jackson</td>\n",
       "      <td>Corporate</td>\n",
       "      <td>Philadelphia</td>\n",
       "      <td>Pennsylvania</td>\n",
       "      <td>United States</td>\n",
       "      <td>East</td>\n",
       "    </tr>\n",
       "    <tr>\n",
       "      <th>3599</th>\n",
       "      <td>FA-2022-3162</td>\n",
       "      <td>2022-01-26</td>\n",
       "      <td>2022-02-03</td>\n",
       "      <td>Standard Class</td>\n",
       "      <td>Fashion</td>\n",
       "      <td>Sports Wear</td>\n",
       "      <td>85</td>\n",
       "      <td>1</td>\n",
       "      <td>0.05</td>\n",
       "      <td>0.75</td>\n",
       "      <td>0.075</td>\n",
       "      <td>Medium</td>\n",
       "      <td>AN-0013368</td>\n",
       "      <td>Boyd Chapman</td>\n",
       "      <td>Consumer</td>\n",
       "      <td>Jacksonville</td>\n",
       "      <td>Florida</td>\n",
       "      <td>United States</td>\n",
       "      <td>South</td>\n",
       "    </tr>\n",
       "    <tr>\n",
       "      <th>2946</th>\n",
       "      <td>El-2022-2617</td>\n",
       "      <td>2022-01-22</td>\n",
       "      <td>2022-01-22</td>\n",
       "      <td>Same Day</td>\n",
       "      <td>Electronic</td>\n",
       "      <td>Mixer/Juicer</td>\n",
       "      <td>83</td>\n",
       "      <td>3</td>\n",
       "      <td>0.01</td>\n",
       "      <td>0.51</td>\n",
       "      <td>0.051</td>\n",
       "      <td>Medium</td>\n",
       "      <td>LE-0010122</td>\n",
       "      <td>Leach Steele</td>\n",
       "      <td>Corporate</td>\n",
       "      <td>Henderson</td>\n",
       "      <td>Kentucky</td>\n",
       "      <td>United States</td>\n",
       "      <td>South</td>\n",
       "    </tr>\n",
       "  </tbody>\n",
       "</table>\n",
       "<p>4365 rows × 19 columns</p>\n",
       "</div>"
      ],
      "text/plain": [
       "           Order ID Order Date Shipping Date       Ship Mode  \\\n",
       "1196    AU-2022-932 2022-01-10    2022-01-16     First Class   \n",
       "1486   AU-2022-3560 2022-01-12    2022-01-21     First Class   \n",
       "2502   AU-2022-4010 2022-01-19    2022-01-29     First Class   \n",
       "4231   AU-2022-3731 2022-01-31    2022-02-03     First Class   \n",
       "1049  FA-2022-30491 2022-01-08    2022-01-09  Standard Class   \n",
       "...             ...        ...           ...             ...   \n",
       "3119    FA-2022-544 2022-01-23    2022-02-02  Standard Class   \n",
       "3138   FA-2022-7364 2022-01-23    2022-01-31  Standard Class   \n",
       "3450   FA-2022-7441 2022-01-25    2022-01-26  Standard Class   \n",
       "3599   FA-2022-3162 2022-01-26    2022-02-03  Standard Class   \n",
       "2946   El-2022-2617 2022-01-22    2022-01-22        Same Day   \n",
       "\n",
       "        Product Category       Product  Sales  Quantity  Discount  Profit  \\\n",
       "1196  Auto & Accessories          Tyre    250         1      0.01  167.50   \n",
       "1486  Auto & Accessories          Tyre    250         1      0.01  167.50   \n",
       "2502  Auto & Accessories          Tyre    250         1      0.01  167.50   \n",
       "4231  Auto & Accessories          Tyre    250         1      0.01  167.50   \n",
       "1049             Fashion    T - Shirts    248         1      0.01  165.52   \n",
       "...                  ...           ...    ...       ...       ...     ...   \n",
       "3119             Fashion   Sports Wear     85         1      0.05    0.75   \n",
       "3138             Fashion   Sports Wear     85         5      0.01    0.75   \n",
       "3450             Fashion   Sports Wear     85         1      0.05    0.75   \n",
       "3599             Fashion   Sports Wear     85         1      0.05    0.75   \n",
       "2946          Electronic  Mixer/Juicer     83         3      0.01    0.51   \n",
       "\n",
       "      Shipping Cost Order Priority Customer ID   Customer Name      Segment  \\\n",
       "1196         16.750           High    LL-00932  Booker Russell     Consumer   \n",
       "1486         16.750       Critical   AS-003560  Holloway Lucas     Consumer   \n",
       "2502         16.750           High   GS-004010   Herman Triggs     Consumer   \n",
       "4231         16.750           High   ES-003731    Conner Jones    Corporate   \n",
       "1049         16.552         Medium  DA-0040697  Moore Andreada  Home Office   \n",
       "...             ...            ...         ...             ...          ...   \n",
       "3119          0.075           High  RD-0010750     Benton Ward    Corporate   \n",
       "3138          0.075         Medium  NG-0017570     Burns Chung     Consumer   \n",
       "3450          0.075         Medium  ON-0017647    Rowe Jackson    Corporate   \n",
       "3599          0.075         Medium  AN-0013368    Boyd Chapman     Consumer   \n",
       "2946          0.051         Medium  LE-0010122    Leach Steele    Corporate   \n",
       "\n",
       "              City             State        Country      Region  \n",
       "1196    Ponferrada  Castile and León          Spain       South  \n",
       "1486      Auckland          Auckland    New Zealand     Oceania  \n",
       "2502        Newark              Ohio  United States        East  \n",
       "4231     Chongqing         Chongqing          China  North Asia  \n",
       "1049        Auburn        Washington  United States        West  \n",
       "...            ...               ...            ...         ...  \n",
       "3119        Sydney   New South Wales      Australia     Oceania  \n",
       "3138       Seattle        Washington  United States        West  \n",
       "3450  Philadelphia      Pennsylvania  United States        East  \n",
       "3599  Jacksonville           Florida  United States       South  \n",
       "2946     Henderson          Kentucky  United States       South  \n",
       "\n",
       "[4365 rows x 19 columns]"
      ]
     },
     "execution_count": 71,
     "metadata": {},
     "output_type": "execute_result"
    }
   ],
   "source": [
    "month_sale.sort_values(['Profit','Product'], ascending= False)     # sorting dataset through columns"
   ]
  },
  {
   "cell_type": "code",
   "execution_count": 72,
   "id": "facf6e70",
   "metadata": {},
   "outputs": [
    {
     "data": {
      "text/html": [
       "<div>\n",
       "<style scoped>\n",
       "    .dataframe tbody tr th:only-of-type {\n",
       "        vertical-align: middle;\n",
       "    }\n",
       "\n",
       "    .dataframe tbody tr th {\n",
       "        vertical-align: top;\n",
       "    }\n",
       "\n",
       "    .dataframe thead th {\n",
       "        text-align: right;\n",
       "    }\n",
       "</style>\n",
       "<table border=\"1\" class=\"dataframe\">\n",
       "  <thead>\n",
       "    <tr style=\"text-align: right;\">\n",
       "      <th></th>\n",
       "      <th>Product</th>\n",
       "      <th>Profit</th>\n",
       "    </tr>\n",
       "  </thead>\n",
       "  <tbody>\n",
       "    <tr>\n",
       "      <th>7</th>\n",
       "      <td>Tyre</td>\n",
       "      <td>162.500000</td>\n",
       "    </tr>\n",
       "    <tr>\n",
       "      <th>64</th>\n",
       "      <td>Running Shoes</td>\n",
       "      <td>137.280000</td>\n",
       "    </tr>\n",
       "    <tr>\n",
       "      <th>56</th>\n",
       "      <td>Jeans</td>\n",
       "      <td>131.460000</td>\n",
       "    </tr>\n",
       "    <tr>\n",
       "      <th>51</th>\n",
       "      <td>T - Shirts</td>\n",
       "      <td>130.800000</td>\n",
       "    </tr>\n",
       "    <tr>\n",
       "      <th>54</th>\n",
       "      <td>Titak watch</td>\n",
       "      <td>129.760000</td>\n",
       "    </tr>\n",
       "    <tr>\n",
       "      <th>23</th>\n",
       "      <td>Iron</td>\n",
       "      <td>128.680000</td>\n",
       "    </tr>\n",
       "    <tr>\n",
       "      <th>32</th>\n",
       "      <td>Bed Sheets</td>\n",
       "      <td>126.780000</td>\n",
       "    </tr>\n",
       "    <tr>\n",
       "      <th>24</th>\n",
       "      <td>Samsung Mobile</td>\n",
       "      <td>122.400000</td>\n",
       "    </tr>\n",
       "    <tr>\n",
       "      <th>17</th>\n",
       "      <td>Apple Laptop</td>\n",
       "      <td>120.000000</td>\n",
       "    </tr>\n",
       "    <tr>\n",
       "      <th>10</th>\n",
       "      <td>Car Pillow &amp; Neck Rest</td>\n",
       "      <td>116.350000</td>\n",
       "    </tr>\n",
       "    <tr>\n",
       "      <th>8</th>\n",
       "      <td>Car Speakers</td>\n",
       "      <td>109.900000</td>\n",
       "    </tr>\n",
       "    <tr>\n",
       "      <th>60</th>\n",
       "      <td>Shirts</td>\n",
       "      <td>108.160000</td>\n",
       "    </tr>\n",
       "    <tr>\n",
       "      <th>75</th>\n",
       "      <td>Formal Shoes</td>\n",
       "      <td>101.050000</td>\n",
       "    </tr>\n",
       "    <tr>\n",
       "      <th>50</th>\n",
       "      <td>Towels</td>\n",
       "      <td>91.000000</td>\n",
       "    </tr>\n",
       "    <tr>\n",
       "      <th>27</th>\n",
       "      <td>Sofa Covers</td>\n",
       "      <td>82.000000</td>\n",
       "    </tr>\n",
       "    <tr>\n",
       "      <th>21</th>\n",
       "      <td>Tablet</td>\n",
       "      <td>79.200000</td>\n",
       "    </tr>\n",
       "    <tr>\n",
       "      <th>53</th>\n",
       "      <td>Fossil Watch</td>\n",
       "      <td>75.820000</td>\n",
       "    </tr>\n",
       "    <tr>\n",
       "      <th>22</th>\n",
       "      <td>LED</td>\n",
       "      <td>73.600000</td>\n",
       "    </tr>\n",
       "    <tr>\n",
       "      <th>39</th>\n",
       "      <td>Umbrellas</td>\n",
       "      <td>70.000000</td>\n",
       "    </tr>\n",
       "    <tr>\n",
       "      <th>149</th>\n",
       "      <td>Fans</td>\n",
       "      <td>55.590000</td>\n",
       "    </tr>\n",
       "    <tr>\n",
       "      <th>0</th>\n",
       "      <td>Car Media Players</td>\n",
       "      <td>48.800000</td>\n",
       "    </tr>\n",
       "    <tr>\n",
       "      <th>26</th>\n",
       "      <td>Dinner Crockery</td>\n",
       "      <td>42.360000</td>\n",
       "    </tr>\n",
       "    <tr>\n",
       "      <th>29</th>\n",
       "      <td>Shoe Rack</td>\n",
       "      <td>41.520000</td>\n",
       "    </tr>\n",
       "    <tr>\n",
       "      <th>147</th>\n",
       "      <td>Speakers</td>\n",
       "      <td>39.600000</td>\n",
       "    </tr>\n",
       "    <tr>\n",
       "      <th>46</th>\n",
       "      <td>Sofas</td>\n",
       "      <td>33.500000</td>\n",
       "    </tr>\n",
       "    <tr>\n",
       "      <th>143</th>\n",
       "      <td>Keyboard</td>\n",
       "      <td>33.000000</td>\n",
       "    </tr>\n",
       "    <tr>\n",
       "      <th>4</th>\n",
       "      <td>Car &amp; Bike Care</td>\n",
       "      <td>30.920000</td>\n",
       "    </tr>\n",
       "    <tr>\n",
       "      <th>133</th>\n",
       "      <td>Car Seat Covers</td>\n",
       "      <td>30.580000</td>\n",
       "    </tr>\n",
       "    <tr>\n",
       "      <th>61</th>\n",
       "      <td>Suits</td>\n",
       "      <td>27.910000</td>\n",
       "    </tr>\n",
       "    <tr>\n",
       "      <th>25</th>\n",
       "      <td>Mixer/Juicer</td>\n",
       "      <td>27.666667</td>\n",
       "    </tr>\n",
       "    <tr>\n",
       "      <th>30</th>\n",
       "      <td>Beds</td>\n",
       "      <td>26.000000</td>\n",
       "    </tr>\n",
       "    <tr>\n",
       "      <th>2</th>\n",
       "      <td>Car Body Covers</td>\n",
       "      <td>25.300000</td>\n",
       "    </tr>\n",
       "    <tr>\n",
       "      <th>18</th>\n",
       "      <td>Mouse</td>\n",
       "      <td>24.340000</td>\n",
       "    </tr>\n",
       "    <tr>\n",
       "      <th>59</th>\n",
       "      <td>Sports Wear</td>\n",
       "      <td>21.250000</td>\n",
       "    </tr>\n",
       "    <tr>\n",
       "      <th>37</th>\n",
       "      <td>Dinning Tables</td>\n",
       "      <td>19.960000</td>\n",
       "    </tr>\n",
       "    <tr>\n",
       "      <th>52</th>\n",
       "      <td>Casula Shoes</td>\n",
       "      <td>17.600000</td>\n",
       "    </tr>\n",
       "    <tr>\n",
       "      <th>544</th>\n",
       "      <td>LCD</td>\n",
       "      <td>16.250000</td>\n",
       "    </tr>\n",
       "    <tr>\n",
       "      <th>1</th>\n",
       "      <td>Bike Tyres</td>\n",
       "      <td>14.400000</td>\n",
       "    </tr>\n",
       "    <tr>\n",
       "      <th>14</th>\n",
       "      <td>Car Mat</td>\n",
       "      <td>13.500000</td>\n",
       "    </tr>\n",
       "    <tr>\n",
       "      <th>69</th>\n",
       "      <td>Sneakers</td>\n",
       "      <td>12.400000</td>\n",
       "    </tr>\n",
       "    <tr>\n",
       "      <th>154</th>\n",
       "      <td>Curtains</td>\n",
       "      <td>11.333333</td>\n",
       "    </tr>\n",
       "    <tr>\n",
       "      <th>20</th>\n",
       "      <td>Watch</td>\n",
       "      <td>8.400000</td>\n",
       "    </tr>\n",
       "  </tbody>\n",
       "</table>\n",
       "</div>"
      ],
      "text/plain": [
       "                    Product      Profit\n",
       "7                      Tyre  162.500000\n",
       "64            Running Shoes  137.280000\n",
       "56                    Jeans  131.460000\n",
       "51               T - Shirts  130.800000\n",
       "54              Titak watch  129.760000\n",
       "23                     Iron  128.680000\n",
       "32               Bed Sheets  126.780000\n",
       "24           Samsung Mobile  122.400000\n",
       "17             Apple Laptop  120.000000\n",
       "10   Car Pillow & Neck Rest  116.350000\n",
       "8              Car Speakers  109.900000\n",
       "60                   Shirts  108.160000\n",
       "75             Formal Shoes  101.050000\n",
       "50                   Towels   91.000000\n",
       "27              Sofa Covers   82.000000\n",
       "21                   Tablet   79.200000\n",
       "53             Fossil Watch   75.820000\n",
       "22                      LED   73.600000\n",
       "39                Umbrellas   70.000000\n",
       "149                    Fans   55.590000\n",
       "0         Car Media Players   48.800000\n",
       "26          Dinner Crockery   42.360000\n",
       "29                Shoe Rack   41.520000\n",
       "147                Speakers   39.600000\n",
       "46                    Sofas   33.500000\n",
       "143                Keyboard   33.000000\n",
       "4           Car & Bike Care   30.920000\n",
       "133         Car Seat Covers   30.580000\n",
       "61                    Suits   27.910000\n",
       "25             Mixer/Juicer   27.666667\n",
       "30                     Beds   26.000000\n",
       "2           Car Body Covers   25.300000\n",
       "18                    Mouse   24.340000\n",
       "59              Sports Wear   21.250000\n",
       "37           Dinning Tables   19.960000\n",
       "52             Casula Shoes   17.600000\n",
       "544                     LCD   16.250000\n",
       "1                Bike Tyres   14.400000\n",
       "14                  Car Mat   13.500000\n",
       "69                 Sneakers   12.400000\n",
       "154                Curtains   11.333333\n",
       "20                    Watch    8.400000"
      ]
     },
     "execution_count": 72,
     "metadata": {},
     "output_type": "execute_result"
    }
   ],
   "source": [
    "unique_product = month_sale.drop_duplicates(subset = [\"Product\"])\n",
    "profit_product= unique_product.sort_values(['Profit','Product'], ascending = False)\n",
    "profit_product[['Product','Profit']]"
   ]
  },
  {
   "cell_type": "code",
   "execution_count": 73,
   "id": "8ae6bd78",
   "metadata": {},
   "outputs": [
    {
     "ename": "NameError",
     "evalue": "name 'product_profit' is not defined",
     "output_type": "error",
     "traceback": [
      "\u001b[1;31m---------------------------------------------------------------------------\u001b[0m",
      "\u001b[1;31mNameError\u001b[0m                                 Traceback (most recent call last)",
      "Cell \u001b[1;32mIn[73], line 1\u001b[0m\n\u001b[1;32m----> 1\u001b[0m \u001b[43mproduct_profit\u001b[49m\u001b[38;5;241m.\u001b[39mvalue_counts(\u001b[38;5;124m'\u001b[39m\u001b[38;5;124mProduct\u001b[39m\u001b[38;5;124m'\u001b[39m)\u001b[38;5;241m.\u001b[39munique()\n",
      "\u001b[1;31mNameError\u001b[0m: name 'product_profit' is not defined"
     ]
    }
   ],
   "source": [
    "# product_profit.value_counts('Product').unique()"
   ]
  },
  {
   "cell_type": "code",
   "execution_count": null,
   "id": "3cfb8e07",
   "metadata": {},
   "outputs": [],
   "source": [
    "# product_profit.sort_values('Profit')"
   ]
  },
  {
   "cell_type": "code",
   "execution_count": null,
   "id": "23831cef",
   "metadata": {},
   "outputs": [],
   "source": [
    "month_sale[month_sale['Product'] == 'Tyre'].count()"
   ]
  },
  {
   "cell_type": "code",
   "execution_count": null,
   "id": "c4d44ef1",
   "metadata": {},
   "outputs": [],
   "source": [
    "month_sale.Product.nunique()          # These both are same\n",
    "# month_sale['Product']"
   ]
  },
  {
   "cell_type": "code",
   "execution_count": null,
   "id": "a4c54796",
   "metadata": {},
   "outputs": [],
   "source": [
    "month_sale.loc[0, 'Customer ID']"
   ]
  },
  {
   "cell_type": "code",
   "execution_count": null,
   "id": "e07d57d7",
   "metadata": {},
   "outputs": [],
   "source": [
    "for index, row in month_sale.iterrows():\n",
    "    print(index,row)"
   ]
  },
  {
   "cell_type": "code",
   "execution_count": null,
   "id": "19023f45",
   "metadata": {},
   "outputs": [],
   "source": [
    "# month_sale.groupby(['Product','Profit']).sum()\n",
    "month_sale.columns"
   ]
  },
  {
   "cell_type": "code",
   "execution_count": 75,
   "id": "3f0e1116",
   "metadata": {},
   "outputs": [
    {
     "data": {
      "text/html": [
       "<div>\n",
       "<style scoped>\n",
       "    .dataframe tbody tr th:only-of-type {\n",
       "        vertical-align: middle;\n",
       "    }\n",
       "\n",
       "    .dataframe tbody tr th {\n",
       "        vertical-align: top;\n",
       "    }\n",
       "\n",
       "    .dataframe thead th {\n",
       "        text-align: right;\n",
       "    }\n",
       "</style>\n",
       "<table border=\"1\" class=\"dataframe\">\n",
       "  <thead>\n",
       "    <tr style=\"text-align: right;\">\n",
       "      <th></th>\n",
       "      <th>Product</th>\n",
       "      <th>Profit</th>\n",
       "    </tr>\n",
       "  </thead>\n",
       "  <tbody>\n",
       "    <tr>\n",
       "      <th>20</th>\n",
       "      <td>Watch</td>\n",
       "      <td>8.400000</td>\n",
       "    </tr>\n",
       "    <tr>\n",
       "      <th>154</th>\n",
       "      <td>Curtains</td>\n",
       "      <td>11.333333</td>\n",
       "    </tr>\n",
       "    <tr>\n",
       "      <th>69</th>\n",
       "      <td>Sneakers</td>\n",
       "      <td>12.400000</td>\n",
       "    </tr>\n",
       "    <tr>\n",
       "      <th>14</th>\n",
       "      <td>Car Mat</td>\n",
       "      <td>13.500000</td>\n",
       "    </tr>\n",
       "    <tr>\n",
       "      <th>1</th>\n",
       "      <td>Bike Tyres</td>\n",
       "      <td>14.400000</td>\n",
       "    </tr>\n",
       "    <tr>\n",
       "      <th>544</th>\n",
       "      <td>LCD</td>\n",
       "      <td>16.250000</td>\n",
       "    </tr>\n",
       "    <tr>\n",
       "      <th>52</th>\n",
       "      <td>Casula Shoes</td>\n",
       "      <td>17.600000</td>\n",
       "    </tr>\n",
       "    <tr>\n",
       "      <th>37</th>\n",
       "      <td>Dinning Tables</td>\n",
       "      <td>19.960000</td>\n",
       "    </tr>\n",
       "    <tr>\n",
       "      <th>59</th>\n",
       "      <td>Sports Wear</td>\n",
       "      <td>21.250000</td>\n",
       "    </tr>\n",
       "    <tr>\n",
       "      <th>18</th>\n",
       "      <td>Mouse</td>\n",
       "      <td>24.340000</td>\n",
       "    </tr>\n",
       "    <tr>\n",
       "      <th>2</th>\n",
       "      <td>Car Body Covers</td>\n",
       "      <td>25.300000</td>\n",
       "    </tr>\n",
       "    <tr>\n",
       "      <th>30</th>\n",
       "      <td>Beds</td>\n",
       "      <td>26.000000</td>\n",
       "    </tr>\n",
       "    <tr>\n",
       "      <th>25</th>\n",
       "      <td>Mixer/Juicer</td>\n",
       "      <td>27.666667</td>\n",
       "    </tr>\n",
       "    <tr>\n",
       "      <th>61</th>\n",
       "      <td>Suits</td>\n",
       "      <td>27.910000</td>\n",
       "    </tr>\n",
       "    <tr>\n",
       "      <th>133</th>\n",
       "      <td>Car Seat Covers</td>\n",
       "      <td>30.580000</td>\n",
       "    </tr>\n",
       "    <tr>\n",
       "      <th>4</th>\n",
       "      <td>Car &amp; Bike Care</td>\n",
       "      <td>30.920000</td>\n",
       "    </tr>\n",
       "    <tr>\n",
       "      <th>143</th>\n",
       "      <td>Keyboard</td>\n",
       "      <td>33.000000</td>\n",
       "    </tr>\n",
       "    <tr>\n",
       "      <th>46</th>\n",
       "      <td>Sofas</td>\n",
       "      <td>33.500000</td>\n",
       "    </tr>\n",
       "    <tr>\n",
       "      <th>147</th>\n",
       "      <td>Speakers</td>\n",
       "      <td>39.600000</td>\n",
       "    </tr>\n",
       "    <tr>\n",
       "      <th>29</th>\n",
       "      <td>Shoe Rack</td>\n",
       "      <td>41.520000</td>\n",
       "    </tr>\n",
       "    <tr>\n",
       "      <th>26</th>\n",
       "      <td>Dinner Crockery</td>\n",
       "      <td>42.360000</td>\n",
       "    </tr>\n",
       "    <tr>\n",
       "      <th>0</th>\n",
       "      <td>Car Media Players</td>\n",
       "      <td>48.800000</td>\n",
       "    </tr>\n",
       "    <tr>\n",
       "      <th>149</th>\n",
       "      <td>Fans</td>\n",
       "      <td>55.590000</td>\n",
       "    </tr>\n",
       "    <tr>\n",
       "      <th>39</th>\n",
       "      <td>Umbrellas</td>\n",
       "      <td>70.000000</td>\n",
       "    </tr>\n",
       "    <tr>\n",
       "      <th>22</th>\n",
       "      <td>LED</td>\n",
       "      <td>73.600000</td>\n",
       "    </tr>\n",
       "    <tr>\n",
       "      <th>53</th>\n",
       "      <td>Fossil Watch</td>\n",
       "      <td>75.820000</td>\n",
       "    </tr>\n",
       "    <tr>\n",
       "      <th>21</th>\n",
       "      <td>Tablet</td>\n",
       "      <td>79.200000</td>\n",
       "    </tr>\n",
       "    <tr>\n",
       "      <th>27</th>\n",
       "      <td>Sofa Covers</td>\n",
       "      <td>82.000000</td>\n",
       "    </tr>\n",
       "    <tr>\n",
       "      <th>50</th>\n",
       "      <td>Towels</td>\n",
       "      <td>91.000000</td>\n",
       "    </tr>\n",
       "    <tr>\n",
       "      <th>75</th>\n",
       "      <td>Formal Shoes</td>\n",
       "      <td>101.050000</td>\n",
       "    </tr>\n",
       "    <tr>\n",
       "      <th>60</th>\n",
       "      <td>Shirts</td>\n",
       "      <td>108.160000</td>\n",
       "    </tr>\n",
       "    <tr>\n",
       "      <th>8</th>\n",
       "      <td>Car Speakers</td>\n",
       "      <td>109.900000</td>\n",
       "    </tr>\n",
       "    <tr>\n",
       "      <th>10</th>\n",
       "      <td>Car Pillow &amp; Neck Rest</td>\n",
       "      <td>116.350000</td>\n",
       "    </tr>\n",
       "    <tr>\n",
       "      <th>17</th>\n",
       "      <td>Apple Laptop</td>\n",
       "      <td>120.000000</td>\n",
       "    </tr>\n",
       "    <tr>\n",
       "      <th>24</th>\n",
       "      <td>Samsung Mobile</td>\n",
       "      <td>122.400000</td>\n",
       "    </tr>\n",
       "    <tr>\n",
       "      <th>32</th>\n",
       "      <td>Bed Sheets</td>\n",
       "      <td>126.780000</td>\n",
       "    </tr>\n",
       "    <tr>\n",
       "      <th>23</th>\n",
       "      <td>Iron</td>\n",
       "      <td>128.680000</td>\n",
       "    </tr>\n",
       "    <tr>\n",
       "      <th>54</th>\n",
       "      <td>Titak watch</td>\n",
       "      <td>129.760000</td>\n",
       "    </tr>\n",
       "    <tr>\n",
       "      <th>51</th>\n",
       "      <td>T - Shirts</td>\n",
       "      <td>130.800000</td>\n",
       "    </tr>\n",
       "    <tr>\n",
       "      <th>56</th>\n",
       "      <td>Jeans</td>\n",
       "      <td>131.460000</td>\n",
       "    </tr>\n",
       "    <tr>\n",
       "      <th>64</th>\n",
       "      <td>Running Shoes</td>\n",
       "      <td>137.280000</td>\n",
       "    </tr>\n",
       "    <tr>\n",
       "      <th>7</th>\n",
       "      <td>Tyre</td>\n",
       "      <td>162.500000</td>\n",
       "    </tr>\n",
       "  </tbody>\n",
       "</table>\n",
       "</div>"
      ],
      "text/plain": [
       "                    Product      Profit\n",
       "20                    Watch    8.400000\n",
       "154                Curtains   11.333333\n",
       "69                 Sneakers   12.400000\n",
       "14                  Car Mat   13.500000\n",
       "1                Bike Tyres   14.400000\n",
       "544                     LCD   16.250000\n",
       "52             Casula Shoes   17.600000\n",
       "37           Dinning Tables   19.960000\n",
       "59              Sports Wear   21.250000\n",
       "18                    Mouse   24.340000\n",
       "2           Car Body Covers   25.300000\n",
       "30                     Beds   26.000000\n",
       "25             Mixer/Juicer   27.666667\n",
       "61                    Suits   27.910000\n",
       "133         Car Seat Covers   30.580000\n",
       "4           Car & Bike Care   30.920000\n",
       "143                Keyboard   33.000000\n",
       "46                    Sofas   33.500000\n",
       "147                Speakers   39.600000\n",
       "29                Shoe Rack   41.520000\n",
       "26          Dinner Crockery   42.360000\n",
       "0         Car Media Players   48.800000\n",
       "149                    Fans   55.590000\n",
       "39                Umbrellas   70.000000\n",
       "22                      LED   73.600000\n",
       "53             Fossil Watch   75.820000\n",
       "21                   Tablet   79.200000\n",
       "27              Sofa Covers   82.000000\n",
       "50                   Towels   91.000000\n",
       "75             Formal Shoes  101.050000\n",
       "60                   Shirts  108.160000\n",
       "8              Car Speakers  109.900000\n",
       "10   Car Pillow & Neck Rest  116.350000\n",
       "17             Apple Laptop  120.000000\n",
       "24           Samsung Mobile  122.400000\n",
       "32               Bed Sheets  126.780000\n",
       "23                     Iron  128.680000\n",
       "54              Titak watch  129.760000\n",
       "51               T - Shirts  130.800000\n",
       "56                    Jeans  131.460000\n",
       "64            Running Shoes  137.280000\n",
       "7                      Tyre  162.500000"
      ]
     },
     "execution_count": 75,
     "metadata": {},
     "output_type": "execute_result"
    }
   ],
   "source": [
    "unique_product = month_sale.drop_duplicates(subset = [\"Product\"])\n",
    "sort_profit = unique_product.sort_values(['Profit','Product'])\n",
    "\n",
    "product_profit = sort_profit[['Product', 'Profit']]    # Extracting only two column from product_profit dataframe\n",
    "product_profit"
   ]
  },
  {
   "cell_type": "markdown",
   "id": "6ed0a2bf",
   "metadata": {},
   "source": [
    "# 6) Top 10 Least Profitable Products"
   ]
  },
  {
   "cell_type": "code",
   "execution_count": 76,
   "id": "722ab90c",
   "metadata": {},
   "outputs": [
    {
     "data": {
      "text/html": [
       "<div>\n",
       "<style scoped>\n",
       "    .dataframe tbody tr th:only-of-type {\n",
       "        vertical-align: middle;\n",
       "    }\n",
       "\n",
       "    .dataframe tbody tr th {\n",
       "        vertical-align: top;\n",
       "    }\n",
       "\n",
       "    .dataframe thead th {\n",
       "        text-align: right;\n",
       "    }\n",
       "</style>\n",
       "<table border=\"1\" class=\"dataframe\">\n",
       "  <thead>\n",
       "    <tr style=\"text-align: right;\">\n",
       "      <th></th>\n",
       "      <th>Product</th>\n",
       "      <th>Profit</th>\n",
       "    </tr>\n",
       "  </thead>\n",
       "  <tbody>\n",
       "    <tr>\n",
       "      <th>20</th>\n",
       "      <td>Watch</td>\n",
       "      <td>8.400000</td>\n",
       "    </tr>\n",
       "    <tr>\n",
       "      <th>154</th>\n",
       "      <td>Curtains</td>\n",
       "      <td>11.333333</td>\n",
       "    </tr>\n",
       "    <tr>\n",
       "      <th>69</th>\n",
       "      <td>Sneakers</td>\n",
       "      <td>12.400000</td>\n",
       "    </tr>\n",
       "    <tr>\n",
       "      <th>14</th>\n",
       "      <td>Car Mat</td>\n",
       "      <td>13.500000</td>\n",
       "    </tr>\n",
       "    <tr>\n",
       "      <th>1</th>\n",
       "      <td>Bike Tyres</td>\n",
       "      <td>14.400000</td>\n",
       "    </tr>\n",
       "    <tr>\n",
       "      <th>544</th>\n",
       "      <td>LCD</td>\n",
       "      <td>16.250000</td>\n",
       "    </tr>\n",
       "    <tr>\n",
       "      <th>52</th>\n",
       "      <td>Casula Shoes</td>\n",
       "      <td>17.600000</td>\n",
       "    </tr>\n",
       "    <tr>\n",
       "      <th>37</th>\n",
       "      <td>Dinning Tables</td>\n",
       "      <td>19.960000</td>\n",
       "    </tr>\n",
       "    <tr>\n",
       "      <th>59</th>\n",
       "      <td>Sports Wear</td>\n",
       "      <td>21.250000</td>\n",
       "    </tr>\n",
       "    <tr>\n",
       "      <th>18</th>\n",
       "      <td>Mouse</td>\n",
       "      <td>24.340000</td>\n",
       "    </tr>\n",
       "  </tbody>\n",
       "</table>\n",
       "</div>"
      ],
      "text/plain": [
       "            Product     Profit\n",
       "20            Watch   8.400000\n",
       "154        Curtains  11.333333\n",
       "69         Sneakers  12.400000\n",
       "14          Car Mat  13.500000\n",
       "1        Bike Tyres  14.400000\n",
       "544             LCD  16.250000\n",
       "52     Casula Shoes  17.600000\n",
       "37   Dinning Tables  19.960000\n",
       "59      Sports Wear  21.250000\n",
       "18            Mouse  24.340000"
      ]
     },
     "execution_count": 76,
     "metadata": {},
     "output_type": "execute_result"
    }
   ],
   "source": [
    "product_profit[:10]\n",
    "# print(product_profit)"
   ]
  },
  {
   "cell_type": "code",
   "execution_count": 77,
   "id": "1c97b34b",
   "metadata": {},
   "outputs": [
    {
     "data": {
      "image/png": "[encoded data removed]",
      "text/plain": [
       "<Figure size 1500x400 with 1 Axes>"
      ]
     },
     "metadata": {},
     "output_type": "display_data"
    }
   ],
   "source": [
    "# plt.pie(product_profit['Profit'][:10], labels= product_profit['Product'][:10])  # plt.xlabel('Products Name'),# plt.ylabel('Profit(%)')\n",
    "plt.figure(figsize=(15,4))\n",
    "plt.pie( product_profit['Profit'][:10], labels = product_profit['Product'][:10])                                                       \n",
    "plt.title('10 Least Profitable Products')\n",
    "plt.legend(loc = 'upper left')\n",
    "plt.axis('equal'),plt.show()"
   ]
  },
  {
   "cell_type": "markdown",
   "id": "c91d5066",
   "metadata": {},
   "source": [
    "# 7) Top 10 Highest Profitable Products"
   ]
  },
  {
   "cell_type": "code",
   "execution_count": 78,
   "id": "1eea67f6",
   "metadata": {},
   "outputs": [
    {
     "data": {
      "text/plain": [
       "7                       Tyre\n",
       "64             Running Shoes\n",
       "56                     Jeans\n",
       "51                T - Shirts\n",
       "54               Titak watch\n",
       "23                      Iron\n",
       "32                Bed Sheets\n",
       "24            Samsung Mobile\n",
       "17              Apple Laptop\n",
       "10    Car Pillow & Neck Rest\n",
       "Name: Product, dtype: object"
      ]
     },
     "execution_count": 78,
     "metadata": {},
     "output_type": "execute_result"
    }
   ],
   "source": [
    "(product_profit.sort_values(['Profit'], ascending =False)[:10])['Product']"
   ]
  },
  {
   "cell_type": "code",
   "execution_count": 84,
   "id": "57baee4a",
   "metadata": {},
   "outputs": [
    {
     "data": {
      "image/png": "[encoded data removed]",
      "text/plain": [
       "<Figure size 400x300 with 1 Axes>"
      ]
     },
     "metadata": {},
     "output_type": "display_data"
    },
    {
     "data": {
      "text/plain": [
       "(([0, 1, 2, 3, 4, 5, 6, 7, 8, 9],\n",
       "  [Text(0, 0, 'Tyre'),\n",
       "   Text(1, 0, 'Running Shoes'),\n",
       "   Text(2, 0, 'Jeans'),\n",
       "   Text(3, 0, 'T - Shirts'),\n",
       "   Text(4, 0, 'Titak watch'),\n",
       "   Text(5, 0, 'Iron'),\n",
       "   Text(6, 0, 'Bed Sheets'),\n",
       "   Text(7, 0, 'Samsung Mobile'),\n",
       "   Text(8, 0, 'Apple Laptop'),\n",
       "   Text(9, 0, 'Car Pillow & Neck Rest')]),\n",
       " None)"
      ]
     },
     "execution_count": 84,
     "metadata": {},
     "output_type": "execute_result"
    }
   ],
   "source": [
    "plt.figure(figsize = (4,3))              # plt.hist(month_sale['Product'])\n",
    "plt.bar((product_profit.sort_values(['Profit'], ascending =False)[:10])['Product'],(product_profit.sort_values(['Profit'], ascending =False)[:10])['Profit'], color='green')\n",
    "plt.xlabel('Products Name')\n",
    "plt.ylabel('Profit(%)')\n",
    "plt.title('10 Most Profitable Products')\n",
    "plt.xticks(rotation = 90),plt.show()"
   ]
  },
  {
   "cell_type": "markdown",
   "id": "b583ac91",
   "metadata": {},
   "source": [
    "# 8) Segment Wise Sales"
   ]
  },
  {
   "cell_type": "code",
   "execution_count": 85,
   "id": "d1b5f167",
   "metadata": {},
   "outputs": [
    {
     "name": "stdout",
     "output_type": "stream",
     "text": [
      "['Consumer' 'Home Office' 'Corporate']\n",
      "[342639, 124078, 209596]\n"
     ]
    }
   ],
   "source": [
    "segments = month_sale['Segment'].unique()\n",
    "seg_sales=[]\n",
    "for seg in segments:\n",
    "    g = month_sale[month_sale['Segment'] == seg]['Sales'].sum()   \n",
    "    seg_sales.append(g)\n",
    "    \n",
    "print(segments)\n",
    "print(seg_sales)"
   ]
  },
  {
   "cell_type": "code",
   "execution_count": 86,
   "id": "91a1361f",
   "metadata": {},
   "outputs": [
    {
     "data": {
      "image/png": "[encoded data removed]",
      "text/plain": [
       "<Figure size 640x480 with 1 Axes>"
      ]
     },
     "metadata": {},
     "output_type": "display_data"
    }
   ],
   "source": [
    "# plt.pie(seg_sales, labels = segments, autopct = '%0.1f%%', radius = 1.1, colors = ['red', 'green', 'yellow'])\n",
    "# plt.pie([1], colors = 'w', radius = 0.5)\n",
    "explode= (.1,.1,.1)\n",
    "plt.pie(seg_sales, labels = segments, autopct = '%0.1f%%', explode = explode)\n",
    "plt.title('Segment Wise Sales')\n",
    "plt.show()"
   ]
  },
  {
   "cell_type": "markdown",
   "id": "3542cf8f",
   "metadata": {},
   "source": [
    "# 9) Top 10 Countries by sales.\n"
   ]
  },
  {
   "cell_type": "code",
   "execution_count": 87,
   "id": "a3761e39",
   "metadata": {},
   "outputs": [
    {
     "data": {
      "text/plain": [
       "36991"
      ]
     },
     "execution_count": 87,
     "metadata": {},
     "output_type": "execute_result"
    }
   ],
   "source": [
    "month_sale[month_sale['Country'] == 'Mexico']['Sales'].sum()"
   ]
  },
  {
   "cell_type": "code",
   "execution_count": 88,
   "id": "e7ce186e",
   "metadata": {},
   "outputs": [
    {
     "data": {
      "text/plain": [
       "7                       Tyre\n",
       "64             Running Shoes\n",
       "56                     Jeans\n",
       "51                T - Shirts\n",
       "54               Titak watch\n",
       "23                      Iron\n",
       "32                Bed Sheets\n",
       "24            Samsung Mobile\n",
       "17              Apple Laptop\n",
       "10    Car Pillow & Neck Rest\n",
       "Name: Product, dtype: object"
      ]
     },
     "execution_count": 88,
     "metadata": {},
     "output_type": "execute_result"
    }
   ],
   "source": [
    "(product_profit.sort_values(['Profit'], ascending =False)[:10])['Product']"
   ]
  },
  {
   "cell_type": "code",
   "execution_count": 89,
   "id": "cbbd8b54",
   "metadata": {},
   "outputs": [
    {
     "name": "stdout",
     "output_type": "stream",
     "text": [
      "['Mexico' 'South Korea' 'South Africa' 'Turkey' 'France' 'Malaysia'\n",
      " 'Vietnam' 'Zimbabwe' 'Zambia' 'El Salvador' 'Brazil' 'Argentina'\n",
      " 'Nigeria' 'Canada' 'China' 'United States' 'Ukraine' 'Australia' 'India'\n",
      " 'Poland' 'Pakistan' 'Egypt' 'Iran' 'Cuba' 'Nicaragua' 'Germany' 'Chile'\n",
      " 'Spain' 'Belgium' 'United Kingdom' 'Japan' 'Morocco' 'Italy' 'Colombia'\n",
      " 'Myanmar (Burma)' 'Senegal' 'Ireland' 'Indonesia' 'Bolivia' 'Netherlands'\n",
      " 'Saudi Arabia' 'Togo' 'Dominican Republic' 'Thailand'\n",
      " 'Democratic Republic of the Congo' 'Israel' 'Cameroon' 'Turkmenistan'\n",
      " 'Guatemala' 'Niger' 'Syria' 'Russia' 'Philippines' 'Mongolia' 'Iraq'\n",
      " 'New Zealand' 'Tanzania' 'Austria' 'Hungary' 'Algeria' 'Haiti' 'Sweden'\n",
      " 'Somalia' 'Romania' 'Finland' 'Peru' 'Lithuania' 'Angola' 'Afghanistan'\n",
      " 'Venezuela' 'Kazakhstan' 'Mozambique' 'Bulgaria' 'Singapore' 'Bangladesh'\n",
      " 'Liberia' 'Honduras' 'Equatorial Guinea' 'Uzbekistan' \"Cote d'Ivoire\"\n",
      " 'Djibouti' 'Guinea' 'Panama' 'Moldova' 'Portugal' 'Estonia' 'Qatar'\n",
      " 'Paraguay' 'Cambodia' 'Ghana' 'Madagascar' 'Sudan' 'Azerbaijan' 'Jamaica'\n",
      " 'Switzerland' 'Mali' 'Uruguay' 'Guadeloupe' 'Hong Kong' 'Ecuador' 'Kenya'\n",
      " 'Libya' 'Yemen' 'Papua New Guinea' 'Lebanon' 'Norway'\n",
      " 'Trinidad and Tobago' 'Kyrgyzstan' 'Tunisia' 'Uganda'\n",
      " 'Bosnia and Herzegovina' 'South Sudan' 'Denmark' 'Jordan' 'Belarus'\n",
      " 'Nepal' 'Rwanda' 'Czech Republic' 'Lesotho' 'Sierra Leone'\n",
      " 'Central African Republic' 'Albania' 'Barbados' 'Ethiopia' 'Georgia'\n",
      " 'Burundi' 'Chad' 'Guinea-Bissau']\n",
      "[36991, 2996, 5700, 21053, 33888, 3164, 3888, 1358, 1366, 9607, 21585, 6054, 11448, 5815, 25638, 124325, 4911, 33183, 19349, 3433, 3657, 6641, 6472, 8859, 8523, 31222, 2469, 11518, 1466, 21490, 2361, 6280, 14189, 5848, 1741, 2114, 1001, 19943, 936, 4502, 6395, 564, 9095, 3537, 5678, 1760, 2332, 930, 7414, 961, 179, 5660, 7421, 900, 3528, 12151, 1360, 4521, 547, 2774, 909, 2256, 236, 1457, 534, 2596, 963, 1408, 677, 2779, 1152, 2266, 475, 1983, 2546, 196, 12299, 346, 1027, 1015, 192, 305, 4312, 303, 854, 248, 213, 200, 750, 1116, 473, 934, 258, 159, 1592, 525, 285, 307, 459, 640, 1047, 613, 225, 207, 213, 681, 669, 573, 558, 683, 228, 196, 662, 251, 821, 133, 159, 192, 72, 761, 119, 337, 224, 109, 85, 224, 119, 216]\n"
     ]
    }
   ],
   "source": [
    "country_unique =month_sale.Country.unique()\n",
    "c_s = []\n",
    "for country in country_unique:\n",
    "    H = month_sale[month_sale['Country'] == country]['Sales'].sum()\n",
    "    c_s.append(H)\n",
    "    \n",
    "# c_s.sort()    \n",
    "# c_s.reverse()\n",
    "print(country_unique)\n",
    "print(c_s)\n",
    "# C_S = pd.DataFrame(c_s)\n",
    "# print(C_S)\n",
    "    \n",
    "    "
   ]
  },
  {
   "cell_type": "code",
   "execution_count": 90,
   "id": "4e44d82c",
   "metadata": {},
   "outputs": [
    {
     "name": "stdout",
     "output_type": "stream",
     "text": [
      "0      36991\n",
      "1       2996\n",
      "2       5700\n",
      "3      21053\n",
      "4      33888\n",
      "5       3164\n",
      "6       3888\n",
      "7       1358\n",
      "8       1366\n",
      "9       9607\n",
      "10     21585\n",
      "11      6054\n",
      "12     11448\n",
      "13      5815\n",
      "14     25638\n",
      "15    124325\n",
      "16      4911\n",
      "17     33183\n",
      "18     19349\n",
      "19      3433\n",
      "20      3657\n",
      "21      6641\n",
      "22      6472\n",
      "23      8859\n",
      "24      8523\n",
      "25     31222\n",
      "26      2469\n",
      "27     11518\n",
      "28      1466\n",
      "29     21490\n",
      "Name: sales, dtype: int64\n"
     ]
    }
   ],
   "source": [
    "# newdf= pd.DataFrame(c_s)\n",
    "# newdf.set_axis(['sales'],axis = 1, inplace = True)\n",
    "\n",
    "# newdf['country'] = country_unique\n",
    "# newdf\n",
    "# s1 = pd.DataFrame(([1,2,3],[4,5,6]),index= ('a','b'))\n",
    "\n",
    "newdf2 = pd.DataFrame(list(zip(country_unique, c_s)), columns = ['country', 'sales'])\n",
    "x1 = newdf2['sales'][:30]\n",
    "y1 = newdf2['country'][:30]\n",
    "print(x1)"
   ]
  },
  {
   "cell_type": "code",
   "execution_count": 96,
   "id": "4da060f3",
   "metadata": {},
   "outputs": [
    {
     "data": {
      "image/png": "[encoded data removed]",
      "text/plain": [
       "<Figure size 1500x500 with 1 Axes>"
      ]
     },
     "metadata": {},
     "output_type": "display_data"
    },
    {
     "data": {
      "text/plain": [
       "(Text(0.5, 23.999999999999986, 'Country'),\n",
       " Text(24.0, 0.5, 'Total Sales($)'),\n",
       " Text(0.5, 1.0, 'Country Wise Sales'),\n",
       " None)"
      ]
     },
     "execution_count": 96,
     "metadata": {},
     "output_type": "execute_result"
    }
   ],
   "source": [
    "plt.figure(figsize = (15,5))\n",
    "plt.plot(y1,x1, label = 'Total Sales($)')\n",
    "plt.xticks(rotation = 90)\n",
    "plt.grid(linewidth=1)\n",
    "plt.legend()\n",
    "plt.xlabel(\"Country\"),plt.ylabel('Total Sales($)'),plt.title(\"Country Wise Sales\"),plt.show()"
   ]
  },
  {
   "cell_type": "markdown",
   "id": "7f7e5235",
   "metadata": {},
   "source": [
    "# 10) Relation between Sales and Region"
   ]
  },
  {
   "cell_type": "code",
   "execution_count": 92,
   "id": "565867fc",
   "metadata": {},
   "outputs": [],
   "source": [
    "unique_region = month_sale.Region.unique()"
   ]
  },
  {
   "cell_type": "code",
   "execution_count": 93,
   "id": "7b7afcdf",
   "metadata": {},
   "outputs": [
    {
     "name": "stdout",
     "output_type": "stream",
     "text": [
      "[63615, 31454, 62464, 65124, 147311, 42427, 88706, 5815, 38117, 45541, 26362, 39155, 20222]\n"
     ]
    }
   ],
   "source": [
    "re_sale=[]\n",
    "for region in unique_region:\n",
    "    region_sale = month_sale[month_sale['Region'] == region]['Sales'].sum()\n",
    "    re_sale.append(region_sale)\n",
    "    \n",
    "print(re_sale)    "
   ]
  },
  {
   "cell_type": "code",
   "execution_count": 94,
   "id": "9166faa7",
   "metadata": {},
   "outputs": [
    {
     "data": {
      "image/png": "[encoded data removed]",
      "text/plain": [
       "<Figure size 800x400 with 1 Axes>"
      ]
     },
     "metadata": {},
     "output_type": "display_data"
    },
    {
     "data": {
      "text/plain": [
       "(Text(0.5, 24.0, 'Region'),\n",
       " Text(24.0, 0.5, 'Sales($)'),\n",
       " Text(0.5, 1.0, 'Region Wise Sales'),\n",
       " None)"
      ]
     },
     "execution_count": 94,
     "metadata": {},
     "output_type": "execute_result"
    }
   ],
   "source": [
    "plt.figure(figsize = (8,4))\n",
    "plt.plot(unique_region, re_sale)\n",
    "plt.xticks(rotation = 30),plt.grid(linewidth = 1)\n",
    "plt.xlabel('Region'),plt.ylabel('Sales($)'),plt.title('Region Wise Sales'),plt.show()"
   ]
  },
  {
   "cell_type": "code",
   "execution_count": null,
   "id": "4573d8fa",
   "metadata": {},
   "outputs": [],
   "source": []
  }
 ],
 "metadata": {
  "kernelspec": {
   "display_name": "Python 3 (ipykernel)",
   "language": "python",
   "name": "python3"
  },
  "language_info": {
   "codemirror_mode": {
    "name": "ipython",
    "version": 3
   },
   "file_extension": ".py",
   "mimetype": "text/x-python",
   "name": "python",
   "nbconvert_exporter": "python",
   "pygments_lexer": "ipython3",
   "version": "3.9.7"
  }
 },
 "nbformat": 4,
 "nbformat_minor": 5
}
